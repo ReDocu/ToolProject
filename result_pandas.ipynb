{
 "cells": [
  {
   "cell_type": "code",
   "execution_count": 2,
   "metadata": {},
   "outputs": [
    {
     "ename": "TclError",
     "evalue": "Invalid column index Name",
     "output_type": "error",
     "traceback": [
      "\u001b[1;31m---------------------------------------------------------------------------\u001b[0m",
      "\u001b[1;31mTclError\u001b[0m                                  Traceback (most recent call last)",
      "Cell \u001b[1;32mIn[2], line 33\u001b[0m\n\u001b[0;32m     26\u001b[0m df \u001b[38;5;241m=\u001b[39m pd\u001b[38;5;241m.\u001b[39mDataFrame({\n\u001b[0;32m     27\u001b[0m     \u001b[38;5;124m\"\u001b[39m\u001b[38;5;124mName\u001b[39m\u001b[38;5;124m\"\u001b[39m: [\u001b[38;5;124m\"\u001b[39m\u001b[38;5;124mJohn\u001b[39m\u001b[38;5;124m\"\u001b[39m, \u001b[38;5;124m\"\u001b[39m\u001b[38;5;124mJane\u001b[39m\u001b[38;5;124m\"\u001b[39m, \u001b[38;5;124m\"\u001b[39m\u001b[38;5;124mJim\u001b[39m\u001b[38;5;124m\"\u001b[39m],\n\u001b[0;32m     28\u001b[0m     \u001b[38;5;124m\"\u001b[39m\u001b[38;5;124mAge\u001b[39m\u001b[38;5;124m\"\u001b[39m: [\u001b[38;5;241m32\u001b[39m, \u001b[38;5;241m28\u001b[39m, \u001b[38;5;241m42\u001b[39m],\n\u001b[0;32m     29\u001b[0m     \u001b[38;5;124m\"\u001b[39m\u001b[38;5;124mCity\u001b[39m\u001b[38;5;124m\"\u001b[39m: [\u001b[38;5;124m\"\u001b[39m\u001b[38;5;124mNew York\u001b[39m\u001b[38;5;124m\"\u001b[39m, \u001b[38;5;124m\"\u001b[39m\u001b[38;5;124mLondon\u001b[39m\u001b[38;5;124m\"\u001b[39m, \u001b[38;5;124m\"\u001b[39m\u001b[38;5;124mParis\u001b[39m\u001b[38;5;124m\"\u001b[39m]\n\u001b[0;32m     30\u001b[0m })\n\u001b[0;32m     32\u001b[0m \u001b[38;5;66;03m# 데이터프레임 GUI 화면 출력\u001b[39;00m\n\u001b[1;32m---> 33\u001b[0m \u001b[43mshow_df_window\u001b[49m\u001b[43m(\u001b[49m\u001b[43mdf\u001b[49m\u001b[43m)\u001b[49m\n",
      "Cell \u001b[1;32mIn[2], line 15\u001b[0m, in \u001b[0;36mshow_df_window\u001b[1;34m(df)\u001b[0m\n\u001b[0;32m     13\u001b[0m \u001b[38;5;66;03m# 테이블 컬럼 명 추가\u001b[39;00m\n\u001b[0;32m     14\u001b[0m \u001b[38;5;28;01mfor\u001b[39;00m col \u001b[38;5;129;01min\u001b[39;00m df\u001b[38;5;241m.\u001b[39mcolumns:\n\u001b[1;32m---> 15\u001b[0m     \u001b[43mtree\u001b[49m\u001b[38;5;241;43m.\u001b[39;49m\u001b[43mheading\u001b[49m\u001b[43m(\u001b[49m\u001b[43mcol\u001b[49m\u001b[43m,\u001b[49m\u001b[43m \u001b[49m\u001b[43mtext\u001b[49m\u001b[38;5;241;43m=\u001b[39;49m\u001b[43mcol\u001b[49m\u001b[43m)\u001b[49m\n\u001b[0;32m     16\u001b[0m     tree\u001b[38;5;241m.\u001b[39mcolumn(col, anchor\u001b[38;5;241m=\u001b[39m\u001b[38;5;124m\"\u001b[39m\u001b[38;5;124mw\u001b[39m\u001b[38;5;124m\"\u001b[39m)\n\u001b[0;32m     18\u001b[0m \u001b[38;5;66;03m# 데이터프레임 내용 추가\u001b[39;00m\n",
      "File \u001b[1;32mc:\\Users\\GJ\\AppData\\Local\\Programs\\Python\\Python312\\Lib\\tkinter\\ttk.py:1274\u001b[0m, in \u001b[0;36mTreeview.heading\u001b[1;34m(self, column, option, **kw)\u001b[0m\n\u001b[0;32m   1271\u001b[0m \u001b[38;5;28;01mif\u001b[39;00m option \u001b[38;5;129;01mis\u001b[39;00m \u001b[38;5;129;01mnot\u001b[39;00m \u001b[38;5;28;01mNone\u001b[39;00m:\n\u001b[0;32m   1272\u001b[0m     kw[option] \u001b[38;5;241m=\u001b[39m \u001b[38;5;28;01mNone\u001b[39;00m\n\u001b[1;32m-> 1274\u001b[0m \u001b[38;5;28;01mreturn\u001b[39;00m \u001b[43m_val_or_dict\u001b[49m\u001b[43m(\u001b[49m\u001b[38;5;28;43mself\u001b[39;49m\u001b[38;5;241;43m.\u001b[39;49m\u001b[43mtk\u001b[49m\u001b[43m,\u001b[49m\u001b[43m \u001b[49m\u001b[43mkw\u001b[49m\u001b[43m,\u001b[49m\u001b[43m \u001b[49m\u001b[38;5;28;43mself\u001b[39;49m\u001b[38;5;241;43m.\u001b[39;49m\u001b[43m_w\u001b[49m\u001b[43m,\u001b[49m\u001b[43m \u001b[49m\u001b[38;5;124;43m'\u001b[39;49m\u001b[38;5;124;43mheading\u001b[39;49m\u001b[38;5;124;43m'\u001b[39;49m\u001b[43m,\u001b[49m\u001b[43m \u001b[49m\u001b[43mcolumn\u001b[49m\u001b[43m)\u001b[49m\n",
      "File \u001b[1;32mc:\\Users\\GJ\\AppData\\Local\\Programs\\Python\\Python312\\Lib\\tkinter\\ttk.py:281\u001b[0m, in \u001b[0;36m_val_or_dict\u001b[1;34m(tk, options, *args)\u001b[0m\n\u001b[0;32m    273\u001b[0m \u001b[38;5;250m\u001b[39m\u001b[38;5;124;03m\"\"\"Format options then call Tk command with args and options and return\u001b[39;00m\n\u001b[0;32m    274\u001b[0m \u001b[38;5;124;03mthe appropriate result.\u001b[39;00m\n\u001b[0;32m    275\u001b[0m \n\u001b[1;32m   (...)\u001b[0m\n\u001b[0;32m    278\u001b[0m \u001b[38;5;124;03mOtherwise, the function just sets the passed options and the caller\u001b[39;00m\n\u001b[0;32m    279\u001b[0m \u001b[38;5;124;03mshouldn't be expecting a return value anyway.\"\"\"\u001b[39;00m\n\u001b[0;32m    280\u001b[0m options \u001b[38;5;241m=\u001b[39m _format_optdict(options)\n\u001b[1;32m--> 281\u001b[0m res \u001b[38;5;241m=\u001b[39m \u001b[43mtk\u001b[49m\u001b[38;5;241;43m.\u001b[39;49m\u001b[43mcall\u001b[49m\u001b[43m(\u001b[49m\u001b[38;5;241;43m*\u001b[39;49m\u001b[43m(\u001b[49m\u001b[43margs\u001b[49m\u001b[43m \u001b[49m\u001b[38;5;241;43m+\u001b[39;49m\u001b[43m \u001b[49m\u001b[43moptions\u001b[49m\u001b[43m)\u001b[49m\u001b[43m)\u001b[49m\n\u001b[0;32m    283\u001b[0m \u001b[38;5;28;01mif\u001b[39;00m \u001b[38;5;28mlen\u001b[39m(options) \u001b[38;5;241m%\u001b[39m \u001b[38;5;241m2\u001b[39m: \u001b[38;5;66;03m# option specified without a value, return its value\u001b[39;00m\n\u001b[0;32m    284\u001b[0m     \u001b[38;5;28;01mreturn\u001b[39;00m res\n",
      "\u001b[1;31mTclError\u001b[0m: Invalid column index Name"
     ]
    }
   ],
   "source": [
    "import pandas as pd\n",
    "import tkinter as tk\n",
    "from tkinter import ttk\n",
    "\n",
    "def show_df_window(df):\n",
    "    # 데이터프레임을 GUI 화면에 보여주는 함수\n",
    "    root = tk.Tk()\n",
    "    root.title(\"DataFrame Viewer\")\n",
    "\n",
    "    # 데이터프레임 내용을 테이블 형식으로 보여주는 ttk.Treeview\n",
    "    tree = ttk.Treeview(root, columns=df.columns, show=\"headings\")\n",
    "\n",
    "    # 테이블 컬럼 명 추가\n",
    "    for col in df.columns:\n",
    "        tree.heading(col, text=col)\n",
    "        tree.column(col, anchor=\"w\")\n",
    "\n",
    "    # 데이터프레임 내용 추가\n",
    "    for idx, row in df.iterrows():\n",
    "        tree.insert(\"\", idx, values=list(row))\n",
    "\n",
    "    tree.pack()\n",
    "    root.mainloop()\n",
    "\n",
    "# 데이터프레임 생성\n",
    "df = pd.DataFrame({\n",
    "    \"Name\": [\"John\", \"Jane\", \"Jim\"],\n",
    "    \"Age\": [32, 28, 42],\n",
    "    \"City\": [\"New York\", \"London\", \"Paris\"]\n",
    "})\n",
    "\n",
    "# 데이터프레임 GUI 화면 출력\n",
    "show_df_window(df)"
   ]
  },
  {
   "cell_type": "code",
   "execution_count": 3,
   "metadata": {},
   "outputs": [],
   "source": [
    "import tkinter as tk\n",
    "from tkinter import ttk\n",
    "import pandas as pd\n",
    "\n",
    "class PandasGUI:\n",
    "    def __init__(self, master):\n",
    "        self.master = master\n",
    "        self.master.title(\"Pandas DataFrame GUI\")\n",
    "\n",
    "        # DataFrame 생성 (임의의 데이터 사용)\n",
    "        data = {'Name': ['Alice', 'Bob', 'Charlie', 'David'],\n",
    "                'Age': [25, 30, 35, 40],\n",
    "                'City': ['New York', 'San Francisco', 'Los Angeles', 'Chicago']}\n",
    "        self.df = pd.DataFrame(data)\n",
    "\n",
    "        # DataFrame을 표 형태로 표시하기 위한 Treeview\n",
    "        self.tree = ttk.Treeview(self.master, columns=list(self.df.columns), show=\"headings\")\n",
    "        for col in self.df.columns:\n",
    "            self.tree.heading(col, text=col)\n",
    "            self.tree.column(col, width=100)  # 각 열의 너비를 조절하려면 필요에 따라 조절\n",
    "\n",
    "        self.tree.pack(pady=10)\n",
    "\n",
    "        # DataFrame을 Treeview에 삽입\n",
    "        self.update_treeview()\n",
    "\n",
    "    def update_treeview(self):\n",
    "        # Treeview 초기화\n",
    "        for i in self.tree.get_children():\n",
    "            self.tree.delete(i)\n",
    "\n",
    "        # DataFrame의 각 행을 Treeview에 추가\n",
    "        for index, row in self.df.iterrows():\n",
    "            self.tree.insert(\"\", \"end\", values=list(row))\n",
    "\n",
    "if __name__ == \"__main__\":\n",
    "    root = tk.Tk()\n",
    "    app = PandasGUI(root)\n",
    "    root.mainloop()"
   ]
  },
  {
   "cell_type": "code",
   "execution_count": null,
   "metadata": {},
   "outputs": [],
   "source": []
  }
 ],
 "metadata": {
  "kernelspec": {
   "display_name": "Python 3",
   "language": "python",
   "name": "python3"
  },
  "language_info": {
   "codemirror_mode": {
    "name": "ipython",
    "version": 3
   },
   "file_extension": ".py",
   "mimetype": "text/x-python",
   "name": "python",
   "nbconvert_exporter": "python",
   "pygments_lexer": "ipython3",
   "version": "3.12.1"
  }
 },
 "nbformat": 4,
 "nbformat_minor": 2
}
