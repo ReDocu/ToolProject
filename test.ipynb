{
 "cells": [
  {
   "cell_type": "code",
   "execution_count": 13,
   "metadata": {},
   "outputs": [],
   "source": [
    "import tkinter as tk\n",
    "\n",
    "window = tk.Tk()\n",
    "window.title('Tool')\n",
    "window.geometry('640x400+100+100')\n",
    "window.resizable(True,True)\n",
    "\n",
    "\n",
    "frame = tk.Frame(window)\n",
    "frame.pack()\n",
    "\n",
    "# scrollbar set\n",
    "scrollbar = tk.Scrollbar(frame)\n",
    "scrollbar.pack(side='right', fill='y')\n",
    "\n",
    "# listbox\n",
    "listbox = tk.Listbox(frame, selectmode='extended', height = 10, yscrollcommand=scrollbar.set)\n",
    "for i in range(0,50):\n",
    "    listbox.insert(i,f'Hello World {i}')\n",
    "listbox.pack()\n",
    "\n",
    "scrollbar.config(command=listbox.yview)\n",
    "\n",
    "\n",
    "window.mainloop()\n"
   ]
  },
  {
   "cell_type": "code",
   "execution_count": null,
   "metadata": {},
   "outputs": [],
   "source": [
    "# 라벨 적용방법\n",
    "label=tk.Label(window, text=\"안녕하세요.\")\n",
    "label.pack()"
   ]
  },
  {
   "cell_type": "code",
   "execution_count": 18,
   "metadata": {},
   "outputs": [
    {
     "name": "stdout",
     "output_type": "stream",
     "text": [
      "('1번', '2번', '3번')\n"
     ]
    }
   ],
   "source": [
    "# 리스트 적용방법\n",
    "\n",
    "import tkinter\n",
    "\n",
    "window=tkinter.Tk()\n",
    "window.title(\"YUN DAE HEE\")\n",
    "window.geometry(\"640x480+100+100\")\n",
    "window.resizable(False, False)\n",
    "\n",
    "listbox = tkinter.Listbox(window, selectmode='extended', height=0)\n",
    "listbox.insert(0, \"1번\")\n",
    "listbox.insert(1, \"2번\")\n",
    "listbox.insert(2, \"2번\")\n",
    "listbox.insert(3, \"2번\")\n",
    "listbox.insert(4, \"3번\")\n",
    "listbox.delete(1, 2)\n",
    "\n",
    "print(listbox.get(0,listbox.size()))\n",
    "listbox.pack()\n",
    "\n",
    "window.mainloop()"
   ]
  },
  {
   "cell_type": "code",
   "execution_count": null,
   "metadata": {},
   "outputs": [],
   "source": [
    "# 학습 알고리즘\n",
    "# sklearn 에 적재되어 있는 알고리즘\n",
    "from sklearn.tree import DecisionTreeClassifier\n",
    "from sklearn.linear_model import LogisticRegression\n",
    "from sklearn.svm import SVC\n",
    "from sklearn.neighbors import KNeighborsClassifier\n",
    "from sklearn.naive_bayes import GaussianNB\n",
    "\n",
    "from sklearn.ensemble import VotingClassifier\n",
    "from sklearn.ensemble import BaggingClassifier\n",
    "from sklearn.ensemble import RandomForestClassifier\n",
    "\n",
    "# 설치가 필요한 앙상블 알고리즘 \n",
    "from sklearn.ensemble import AdaBoostClassifier\n",
    "from sklearn.ensemble import GradientBoostingClassifier\n",
    "from xgboost import XGBClassifier\n",
    "from lightgbm import LGBMClassifier\n",
    "#from catboost import CatBoostClassifier"
   ]
  },
  {
   "cell_type": "code",
   "execution_count": null,
   "metadata": {},
   "outputs": [],
   "source": [
    "# 샘플데이터\n",
    "from sklearn.datasets import load_digits\n",
    "from sklearn.datasets import load_breast_cancer\n",
    "\n",
    "# 데이터 분류\n",
    "from sklearn.model_selection import train_test_split\n",
    "\n",
    "# 기본 알고리즘\n",
    "from sklearn.tree import DecisionTreeClassifier\n",
    "from sklearn.linear_model import LogisticRegression\n",
    "from sklearn.svm import SVC\n",
    "from sklearn.neighbors import KNeighborsClassifier\n",
    "from sklearn.naive_bayes import GaussianNB\n",
    "#from catboost import CatBoostClassifier\n",
    "\n",
    "# 앙상블 알고리즘\n",
    "from sklearn.ensemble import VotingClassifier\n",
    "from sklearn.ensemble import BaggingClassifier\n",
    "from sklearn.ensemble import RandomForestClassifier\n",
    "\n",
    "# 설치가 필요한 앙상블 알고리즘 \n",
    "from sklearn.ensemble import AdaBoostClassifier\n",
    "from sklearn.ensemble import GradientBoostingClassifier\n",
    "from xgboost import XGBClassifier\n",
    "from lightgbm import LGBMClassifier\n",
    "\n",
    "# 평가함수\n",
    "from sklearn.metrics import accuracy_score\n",
    "from sklearn.metrics import f1_score\n",
    "from sklearn.metrics import classification_report\n",
    "from sklearn.metrics import roc_auc_score\n",
    "from sklearn.metrics import roc_curve\n",
    "\n",
    "# 평가 데이터 전처리 함수\n",
    "\n",
    "import imblearn\n",
    "from imblearn.over_sampling import SMOTE                                      # 샘플링\n",
    "from sklearn.preprocessing import MinMaxScaler, StandardScaler, RobustScaler  # 스케일링\n",
    "from sklearn.preprocessing import LabelEncoder\n",
    "from sklearn.model_selection import KFold\n",
    "\n",
    "# 하이퍼 파라미터\n",
    "from sklearn.model_selection import GridSearchCV\n",
    "from scipy.stats import uniform, randint"
   ]
  },
  {
   "cell_type": "code",
   "execution_count": 1,
   "metadata": {},
   "outputs": [],
   "source": [
    "import tkinter\n",
    "\n",
    "window=tkinter.Tk()\n",
    "window.title(\"YUN DAE HEE\")\n",
    "window.geometry(\"640x400+100+100\")\n",
    "window.resizable(False, False)\n",
    "\n",
    "frame1=tkinter.Frame(window, relief=\"solid\", bd=2)\n",
    "frame1.pack(side=\"left\", fill=\"both\", expand=True)\n",
    "\n",
    "frame2=tkinter.Frame(window, relief=\"solid\", bd=2)\n",
    "frame2.pack(side=\"right\", fill=\"both\", expand=True)\n",
    "\n",
    "button1=tkinter.Button(frame1, text=\"프레임1\")\n",
    "button1.pack(side=\"right\")\n",
    "\n",
    "button2=tkinter.Button(frame2, text=\"프레임2\")\n",
    "button2.pack(side=\"left\")\n",
    "\n",
    "window.mainloop()"
   ]
  },
  {
   "cell_type": "code",
   "execution_count": null,
   "metadata": {},
   "outputs": [],
   "source": []
  }
 ],
 "metadata": {
  "kernelspec": {
   "display_name": "Python 3",
   "language": "python",
   "name": "python3"
  },
  "language_info": {
   "codemirror_mode": {
    "name": "ipython",
    "version": 3
   },
   "file_extension": ".py",
   "mimetype": "text/x-python",
   "name": "python",
   "nbconvert_exporter": "python",
   "pygments_lexer": "ipython3",
   "version": "3.12.1"
  }
 },
 "nbformat": 4,
 "nbformat_minor": 2
}
